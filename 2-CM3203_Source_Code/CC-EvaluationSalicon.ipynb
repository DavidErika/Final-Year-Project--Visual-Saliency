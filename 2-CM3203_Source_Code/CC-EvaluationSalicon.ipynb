{
 "cells": [
  {
   "cell_type": "code",
   "execution_count": 2,
   "id": "4e3fc2ed",
   "metadata": {},
   "outputs": [],
   "source": [
    "# Import libraries\n",
    "import numpy as np\n",
    "import cv2\n",
    "import os\n",
    "import pandas as pd\n",
    "import matplotlib.pyplot as plt\n",
    "import seaborn as sns\n",
    "from tqdm import tqdm\n",
    "from scipy.stats import pearsonr\n",
    "from scipy.stats import linregress, pearsonr"
   ]
  },
  {
   "cell_type": "code",
   "execution_count": 3,
   "id": "b3ba859d",
   "metadata": {},
   "outputs": [],
   "source": [
    "#Define the metrics to comput\n",
    "def normalize_map(s_map):\n",
    "    return (s_map - np.mean(s_map)) / (np.std(s_map) + 1e-8)\n",
    "\n",
    "def compute_nss(pred_map, fixation_map):\n",
    "    pred_map = normalize_map(pred_map)\n",
    "    return np.mean(pred_map[fixation_map > 0])\n",
    "\n",
    "def compute_cc(pred_map, gt_map):\n",
    "    return pearsonr(pred_map.flatten(), gt_map.flatten())[0]"
   ]
  },
  {
   "cell_type": "code",
   "execution_count": 5,
   "id": "2c45a639",
   "metadata": {},
   "outputs": [],
   "source": [
    "#Specification of stimuli, ground truth, and predicted saliency maps paths\n",
    "raw_dir = 'Stimuli/'  # New: Path for raw images\n",
    "pred_dir = 'Salicon_saliencymaps/'\n",
    "gt_dir = 'GTSaliencymaps/'\n",
    "fix_dir = 'Fixation-maps/'\n",
    "output_csv = 'metric_results.csv'\n",
    "\n",
    "results = []\n",
    "file_list = sorted(os.listdir(pred_dir))"
   ]
  },
  {
   "cell_type": "code",
   "execution_count": 6,
   "id": "cf740106",
   "metadata": {},
   "outputs": [
    {
     "name": "stderr",
     "output_type": "stream",
     "text": [
      "100%|██████████| 9/9 [00:00<00:00, 14.46it/s]\n"
     ]
    }
   ],
   "source": [
    "results = []\n",
    "\n",
    "output_dir = 'cc1visualizations'\n",
    "os.makedirs(output_dir, exist_ok=True)\n",
    "\n",
    "def compute_cc(pred_map, gt_map):\n",
    "    # Resize pred_map if dimensions mismatch\n",
    "    if pred_map.shape != gt_map.shape:\n",
    "        pred_map = cv2.resize(pred_map, (gt_map.shape[1], gt_map.shape[0]), interpolation=cv2.INTER_LINEAR)\n",
    "    return pearsonr(pred_map.flatten(), gt_map.flatten())[0]\n",
    "\n",
    "for file_name in tqdm(file_list):\n",
    "    raw = cv2.imread(os.path.join(raw_dir, file_name))  # Raw image\n",
    "    pred = cv2.imread(os.path.join(pred_dir, file_name), 0).astype(np.float32)\n",
    "    gt = cv2.imread(os.path.join(gt_dir, file_name), 0).astype(np.float32)\n",
    "\n",
    "    # Compute CC\n",
    "    cc = compute_cc(pred, gt)\n",
    "    results.append({'Image': file_name, 'CC': cc})\n",
    "\n",
    "    # Normalize for display (original dimensions preserved)\n",
    "    pred_disp = (pred - pred.min()) / (pred.max() - pred.min() + 1e-8)\n",
    "    gt_disp = (gt - gt.min()) / (gt.max() - gt.min() + 1e-8)\n",
    "\n",
    "    # For scatter and regression, use resized prediction if needed\n",
    "    if pred.shape != gt.shape:\n",
    "        pred_resized = cv2.resize(pred, (gt.shape[1], gt.shape[0]), interpolation=cv2.INTER_LINEAR)\n",
    "    else:\n",
    "        pred_resized = pred\n",
    "\n",
    "    gt_flat = gt.flatten()\n",
    "    pred_flat = pred_resized.flatten()\n",
    "\n",
    "    slope, intercept, _, _, _ = linregress(gt_flat, pred_flat)\n",
    "    reg_line = slope * gt_flat + intercept\n"
   ]
  },
  {
   "cell_type": "code",
   "execution_count": 7,
   "id": "48f3a1e6",
   "metadata": {},
   "outputs": [],
   "source": [
    "# Plot and save visualisation into the output folder\n",
    "plt.figure(figsize=(15, 5))\n",
    "\n",
    "plt.subplot(1, 4, 1)\n",
    "plt.imshow(cv2.cvtColor(raw, cv2.COLOR_BGR2RGB))\n",
    "plt.title('Raw Image')\n",
    "plt.axis('off')\n",
    "\n",
    "plt.subplot(1, 4, 2)\n",
    "plt.imshow(gt_disp, cmap='gray')\n",
    "plt.title('Groundtruth')\n",
    "plt.axis('off')\n",
    "\n",
    "plt.subplot(1, 4, 3)\n",
    "im = plt.imshow(pred_disp, cmap='jet')\n",
    "plt.title(f'Prediction\\nCC={cc:.2f}')\n",
    "plt.axis('off')\n",
    "plt.colorbar(im, fraction=0.046, pad=0.04)\n",
    "\n",
    "plt.subplot(1, 4, 4)\n",
    "plt.scatter(gt_flat, pred_flat, s=5, alpha=0.3, label='Pixels')\n",
    "plt.plot(gt_flat, reg_line, color='red', linewidth=1.5, label='Regression Line')\n",
    "plt.title('GT vs. Prediction Scatter')\n",
    "plt.xlabel('Groundtruth')\n",
    "plt.ylabel('Prediction')\n",
    "plt.grid(True)\n",
    "plt.legend()\n",
    "\n",
    "plt.tight_layout()\n",
    "\n",
    "save_path = os.path.join(output_dir, f\"{os.path.splitext(file_name)[0]}_cc_vis.png\")\n",
    "plt.savefig(save_path, dpi=150)\n",
    "plt.close()"
   ]
  },
  {
   "cell_type": "code",
   "execution_count": 8,
   "id": "e8ac2174",
   "metadata": {},
   "outputs": [],
   "source": [
    "import csv\n",
    "\n",
    "# Save results to CSV\n",
    "csv_path = os.path.join(output_dir, 'cc_results.csv')\n",
    "with open(csv_path, mode='w', newline='') as file:\n",
    "    writer = csv.writer(file)\n",
    "    writer.writerow(['Image', 'CC'])\n",
    "\n",
    "    total_cc = 0\n",
    "    for r in results:\n",
    "        cc_rounded = round(r['CC'], 2)\n",
    "        writer.writerow([r['Image'], cc_rounded])\n",
    "        total_cc += cc_rounded\n",
    "\n",
    "    avg_cc = round(total_cc / len(results), 2)\n",
    "    writer.writerow([])\n",
    "    writer.writerow(['Average', avg_cc])"
   ]
  }
 ],
 "metadata": {
  "kernelspec": {
   "display_name": "Python 3",
   "language": "python",
   "name": "python3"
  },
  "language_info": {
   "codemirror_mode": {
    "name": "ipython",
    "version": 3
   },
   "file_extension": ".py",
   "mimetype": "text/x-python",
   "name": "python",
   "nbconvert_exporter": "python",
   "pygments_lexer": "ipython3",
   "version": "3.11.9"
  }
 },
 "nbformat": 4,
 "nbformat_minor": 5
}
