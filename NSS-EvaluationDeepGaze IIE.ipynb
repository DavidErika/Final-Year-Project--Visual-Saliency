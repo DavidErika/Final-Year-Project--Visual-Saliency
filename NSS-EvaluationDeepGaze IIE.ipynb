{
 "cells": [
  {
   "cell_type": "code",
   "execution_count": 2,
   "id": "dc876142",
   "metadata": {},
   "outputs": [],
   "source": [
    "#Import Libraries\n",
    "import numpy as np\n",
    "import cv2\n",
    "import os\n",
    "import pandas as pd\n",
    "import matplotlib.pyplot as plt\n",
    "import seaborn as sns\n",
    "from tqdm import tqdm\n",
    "from scipy.stats import pearsonr\n"
   ]
  },
  {
   "cell_type": "code",
   "execution_count": 3,
   "id": "aaa0489c",
   "metadata": {},
   "outputs": [],
   "source": [
    "#Define the metrics\n",
    "def normalize_map(s_map):\n",
    "    return (s_map - np.mean(s_map)) / (np.std(s_map) + 1e-8)\n",
    "\n",
    "def compute_nss(pred_map, fixation_map):\n",
    "    pred_map = normalize_map(pred_map)\n",
    "    return np.mean(pred_map[fixation_map > 0])\n",
    "\n",
    "def compute_cc(pred_map, gt_map):\n",
    "    return pearsonr(pred_map.flatten(), gt_map.flatten())[0]"
   ]
  },
  {
   "cell_type": "code",
   "execution_count": 4,
   "id": "65511d07",
   "metadata": {},
   "outputs": [],
   "source": [
    "#Specification of stimuli, ground truth, and predicted saliency maps paths\n",
    "raw_dir = 'Stimuli/' \n",
    "pred_dir = 'DeepGazeIIE_saliencymaps/'\n",
    "gt_dir = 'GTSaliencymaps/'\n",
    "fix_dir = 'Fixation-maps/'\n",
    "output_csv = 'metric_results.csv'\n",
    "\n",
    "results = []\n",
    "file_list = sorted(os.listdir(pred_dir))"
   ]
  },
  {
   "cell_type": "code",
   "execution_count": null,
   "id": "629957b5",
   "metadata": {},
   "outputs": [
    {
     "name": "stderr",
     "output_type": "stream",
     "text": [
      "100%|██████████| 9/9 [00:00<00:00, 36.91it/s]\n"
     ]
    }
   ],
   "source": [
    "import os\n",
    "os.makedirs(\"visualizations\", exist_ok=True)\n",
    "\n",
    "for file_name in tqdm(file_list):\n",
    "    raw = cv2.imread(os.path.join(raw_dir, file_name))\n",
    "    pred = cv2.imread(os.path.join(pred_dir, file_name), 0).astype(np.float32)\n",
    "    gt = cv2.imread(os.path.join(gt_dir, file_name), 0).astype(np.float32)\n",
    "    fix = cv2.imread(os.path.join(fix_dir, file_name), 0).astype(np.float32)\n",
    "\n",
    "    # Resizing fixation map for NSS computation\n",
    "    fix_resized = fix\n",
    "    if pred.shape != fix.shape:\n",
    "        fix_resized = cv2.resize(fix, (pred.shape[1], pred.shape[0]), interpolation=cv2.INTER_NEAREST)\n",
    "\n",
    "    nss = compute_nss(pred, fix_resized)\n",
    "\n",
    "    results.append({'Image': file_name, 'NSS': nss})"
   ]
  },
  {
   "cell_type": "code",
   "execution_count": null,
   "id": "77e2552a",
   "metadata": {},
   "outputs": [],
   "source": [
    "#Read the file paths and and save visualisation into the output folder\n",
    "plt.figure(figsize=(15, 5))\n",
    "    \n",
    "plt.subplot(1, 3, 1)\n",
    "plt.imshow(cv2.cvtColor(raw, cv2.COLOR_BGR2RGB))\n",
    "plt.title('Raw Image')\n",
    "plt.axis('off')\n",
    "\n",
    "plt.subplot(1, 3, 2)\n",
    "plt.imshow(gt, cmap='gray')\n",
    "plt.title('Groundtruth')\n",
    "plt.axis('off')\n",
    "\n",
    "plt.subplot(1, 3, 3)\n",
    "plt.imshow(pred, cmap='jet')\n",
    "plt.title(f'Prediction NSS={nss:.2f}')\n",
    "plt.axis('off')\n",
    "\n",
    "plt.tight_layout()\n",
    "\n",
    "# Save figure\n",
    "save_path = os.path.join(\"visualizations\", f\"{os.path.splitext(file_name)[0]}.png\")\n",
    "plt.savefig(save_path, dpi=150)\n",
    "plt.close()\n"
   ]
  },
  {
   "cell_type": "code",
   "execution_count": 8,
   "id": "82afeb40",
   "metadata": {},
   "outputs": [
    {
     "data": {
      "text/html": [
       "<div>\n",
       "<style scoped>\n",
       "    .dataframe tbody tr th:only-of-type {\n",
       "        vertical-align: middle;\n",
       "    }\n",
       "\n",
       "    .dataframe tbody tr th {\n",
       "        vertical-align: top;\n",
       "    }\n",
       "\n",
       "    .dataframe thead th {\n",
       "        text-align: right;\n",
       "    }\n",
       "</style>\n",
       "<table border=\"1\" class=\"dataframe\">\n",
       "  <thead>\n",
       "    <tr style=\"text-align: right;\">\n",
       "      <th></th>\n",
       "      <th>Image</th>\n",
       "      <th>NSS</th>\n",
       "    </tr>\n",
       "  </thead>\n",
       "  <tbody>\n",
       "    <tr>\n",
       "      <th>0</th>\n",
       "      <td>High(i).png</td>\n",
       "      <td>0.702362</td>\n",
       "    </tr>\n",
       "    <tr>\n",
       "      <th>1</th>\n",
       "      <td>High(ii).png</td>\n",
       "      <td>1.751143</td>\n",
       "    </tr>\n",
       "    <tr>\n",
       "      <th>2</th>\n",
       "      <td>High(iii).png</td>\n",
       "      <td>1.540396</td>\n",
       "    </tr>\n",
       "    <tr>\n",
       "      <th>3</th>\n",
       "      <td>Low(i).png</td>\n",
       "      <td>2.897657</td>\n",
       "    </tr>\n",
       "    <tr>\n",
       "      <th>4</th>\n",
       "      <td>Low(ii).png</td>\n",
       "      <td>3.727693</td>\n",
       "    </tr>\n",
       "  </tbody>\n",
       "</table>\n",
       "</div>"
      ],
      "text/plain": [
       "           Image       NSS\n",
       "0    High(i).png  0.702362\n",
       "1   High(ii).png  1.751143\n",
       "2  High(iii).png  1.540396\n",
       "3     Low(i).png  2.897657\n",
       "4    Low(ii).png  3.727693"
      ]
     },
     "execution_count": 8,
     "metadata": {},
     "output_type": "execute_result"
    }
   ],
   "source": [
    "#Print results into a dataframe and save figures into the output csv file\n",
    "df = pd.DataFrame(results)\n",
    "df.to_csv(output_csv, index=False)\n",
    "df.head()"
   ]
  }
 ],
 "metadata": {
  "kernelspec": {
   "display_name": "Python 3",
   "language": "python",
   "name": "python3"
  },
  "language_info": {
   "codemirror_mode": {
    "name": "ipython",
    "version": 3
   },
   "file_extension": ".py",
   "mimetype": "text/x-python",
   "name": "python",
   "nbconvert_exporter": "python",
   "pygments_lexer": "ipython3",
   "version": "3.11.9"
  }
 },
 "nbformat": 4,
 "nbformat_minor": 5
}
